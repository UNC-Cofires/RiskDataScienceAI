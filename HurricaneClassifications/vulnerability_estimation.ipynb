{
 "cells": [
  {
   "cell_type": "markdown",
   "id": "6efb428e-ac6f-4ea0-8446-7589fa9e9212",
   "metadata": {},
   "source": [
    "# Vulnerability Estimation"
   ]
  },
  {
   "cell_type": "markdown",
   "id": "bc891990-0b32-4ab9-b268-1c18c5ce8a9f",
   "metadata": {},
   "source": [
    "### read in census tract populations from exposure analysis"
   ]
  },
  {
   "cell_type": "code",
   "execution_count": 1,
   "id": "f914f93d-9804-487e-be41-91be6b45c1b9",
   "metadata": {},
   "outputs": [],
   "source": [
    "import numpy as np\n",
    "import pandas as pd\n",
    "import geopandas as gpd\n",
    "import os\n",
    "import matplotlib.pyplot as plt\n",
    "import seaborn as sns\n"
   ]
  },
  {
   "cell_type": "code",
   "execution_count": 2,
   "id": "742fd100-b373-4b3b-bd4c-eed76692ae22",
   "metadata": {},
   "outputs": [
    {
     "data": {
      "text/html": [
       "<div>\n",
       "<style scoped>\n",
       "    .dataframe tbody tr th:only-of-type {\n",
       "        vertical-align: middle;\n",
       "    }\n",
       "\n",
       "    .dataframe tbody tr th {\n",
       "        vertical-align: top;\n",
       "    }\n",
       "\n",
       "    .dataframe thead th {\n",
       "        text-align: right;\n",
       "    }\n",
       "</style>\n",
       "<table border=\"1\" class=\"dataframe\">\n",
       "  <thead>\n",
       "    <tr style=\"text-align: right;\">\n",
       "      <th></th>\n",
       "      <th>index</th>\n",
       "      <th>Population</th>\n",
       "      <th>geometry</th>\n",
       "    </tr>\n",
       "  </thead>\n",
       "  <tbody>\n",
       "    <tr>\n",
       "      <th>0</th>\n",
       "      <td>01063060102</td>\n",
       "      <td>2222.0</td>\n",
       "      <td>POLYGON ((-724270.732 3709348.208, -724269.218...</td>\n",
       "    </tr>\n",
       "    <tr>\n",
       "      <th>1</th>\n",
       "      <td>01063060101</td>\n",
       "      <td>1602.0</td>\n",
       "      <td>POLYGON ((-721733.890 3701425.390, -721211.080...</td>\n",
       "    </tr>\n",
       "    <tr>\n",
       "      <th>2</th>\n",
       "      <td>01069040802</td>\n",
       "      <td>3933.0</td>\n",
       "      <td>POLYGON ((-498521.220 3494255.431, -498516.451...</td>\n",
       "    </tr>\n",
       "    <tr>\n",
       "      <th>3</th>\n",
       "      <td>01069040204</td>\n",
       "      <td>6537.0</td>\n",
       "      <td>POLYGON ((-498583.226 3504971.637, -498577.853...</td>\n",
       "    </tr>\n",
       "    <tr>\n",
       "      <th>4</th>\n",
       "      <td>01069041902</td>\n",
       "      <td>4821.0</td>\n",
       "      <td>POLYGON ((-484900.872 3491577.624, -484895.054...</td>\n",
       "    </tr>\n",
       "    <tr>\n",
       "      <th>5</th>\n",
       "      <td>01069040205</td>\n",
       "      <td>5808.0</td>\n",
       "      <td>POLYGON ((-502770.358 3503905.235, -502742.934...</td>\n",
       "    </tr>\n",
       "    <tr>\n",
       "      <th>6</th>\n",
       "      <td>01069040203</td>\n",
       "      <td>2945.0</td>\n",
       "      <td>POLYGON ((-502767.667 3504921.191, -502666.204...</td>\n",
       "    </tr>\n",
       "    <tr>\n",
       "      <th>7</th>\n",
       "      <td>01069040801</td>\n",
       "      <td>5448.0</td>\n",
       "      <td>POLYGON ((-500428.769 3500358.761, -500416.723...</td>\n",
       "    </tr>\n",
       "    <tr>\n",
       "      <th>8</th>\n",
       "      <td>01069041901</td>\n",
       "      <td>3047.0</td>\n",
       "      <td>POLYGON ((-488333.057 3493935.746, -488256.069...</td>\n",
       "    </tr>\n",
       "    <tr>\n",
       "      <th>9</th>\n",
       "      <td>01069040206</td>\n",
       "      <td>4135.0</td>\n",
       "      <td>POLYGON ((-501435.632 3501596.100, -501427.119...</td>\n",
       "    </tr>\n",
       "    <tr>\n",
       "      <th>10</th>\n",
       "      <td>01125010706</td>\n",
       "      <td>4350.0</td>\n",
       "      <td>POLYGON ((-664112.715 3743909.421, -664104.175...</td>\n",
       "    </tr>\n",
       "    <tr>\n",
       "      <th>11</th>\n",
       "      <td>01125010704</td>\n",
       "      <td>5046.0</td>\n",
       "      <td>POLYGON ((-682368.079 3723420.237, -682339.303...</td>\n",
       "    </tr>\n",
       "    <tr>\n",
       "      <th>12</th>\n",
       "      <td>01125010705</td>\n",
       "      <td>4473.0</td>\n",
       "      <td>POLYGON ((-691734.395 3725024.015, -691708.904...</td>\n",
       "    </tr>\n",
       "    <tr>\n",
       "      <th>13</th>\n",
       "      <td>01125010104</td>\n",
       "      <td>3461.0</td>\n",
       "      <td>POLYGON ((-683320.776 3780079.255, -683314.128...</td>\n",
       "    </tr>\n",
       "    <tr>\n",
       "      <th>14</th>\n",
       "      <td>01125012504</td>\n",
       "      <td>3748.0</td>\n",
       "      <td>POLYGON ((-684409.797 3736290.851, -684398.419...</td>\n",
       "    </tr>\n",
       "    <tr>\n",
       "      <th>15</th>\n",
       "      <td>01125010305</td>\n",
       "      <td>3470.0</td>\n",
       "      <td>POLYGON ((-691776.446 3760265.194, -691733.536...</td>\n",
       "    </tr>\n",
       "    <tr>\n",
       "      <th>16</th>\n",
       "      <td>01125010603</td>\n",
       "      <td>5657.0</td>\n",
       "      <td>POLYGON ((-636561.345 3745153.770, -636556.582...</td>\n",
       "    </tr>\n",
       "    <tr>\n",
       "      <th>17</th>\n",
       "      <td>01125012306</td>\n",
       "      <td>4945.0</td>\n",
       "      <td>POLYGON ((-671383.053 3742774.493, -671377.038...</td>\n",
       "    </tr>\n",
       "    <tr>\n",
       "      <th>18</th>\n",
       "      <td>01125010707</td>\n",
       "      <td>4263.0</td>\n",
       "      <td>POLYGON ((-668183.281 3735454.031, -668178.812...</td>\n",
       "    </tr>\n",
       "    <tr>\n",
       "      <th>19</th>\n",
       "      <td>01125010206</td>\n",
       "      <td>5351.0</td>\n",
       "      <td>POLYGON ((-677929.454 3751968.761, -677908.911...</td>\n",
       "    </tr>\n",
       "    <tr>\n",
       "      <th>20</th>\n",
       "      <td>01125012307</td>\n",
       "      <td>1651.0</td>\n",
       "      <td>POLYGON ((-671567.191 3740685.971, -671555.686...</td>\n",
       "    </tr>\n",
       "    <tr>\n",
       "      <th>21</th>\n",
       "      <td>01125012505</td>\n",
       "      <td>3857.0</td>\n",
       "      <td>POLYGON ((-677129.867 3735849.949, -677098.195...</td>\n",
       "    </tr>\n",
       "    <tr>\n",
       "      <th>22</th>\n",
       "      <td>01125010604</td>\n",
       "      <td>7536.0</td>\n",
       "      <td>POLYGON ((-644507.729 3749574.528, -644506.434...</td>\n",
       "    </tr>\n",
       "    <tr>\n",
       "      <th>23</th>\n",
       "      <td>01125012101</td>\n",
       "      <td>4604.0</td>\n",
       "      <td>POLYGON ((-671345.652 3743076.485, -671342.762...</td>\n",
       "    </tr>\n",
       "    <tr>\n",
       "      <th>24</th>\n",
       "      <td>01125010105</td>\n",
       "      <td>3840.0</td>\n",
       "      <td>POLYGON ((-696409.862 3783100.743, -696363.779...</td>\n",
       "    </tr>\n",
       "  </tbody>\n",
       "</table>\n",
       "</div>"
      ],
      "text/plain": [
       "          index  Population                                           geometry\n",
       "0   01063060102      2222.0  POLYGON ((-724270.732 3709348.208, -724269.218...\n",
       "1   01063060101      1602.0  POLYGON ((-721733.890 3701425.390, -721211.080...\n",
       "2   01069040802      3933.0  POLYGON ((-498521.220 3494255.431, -498516.451...\n",
       "3   01069040204      6537.0  POLYGON ((-498583.226 3504971.637, -498577.853...\n",
       "4   01069041902      4821.0  POLYGON ((-484900.872 3491577.624, -484895.054...\n",
       "5   01069040205      5808.0  POLYGON ((-502770.358 3503905.235, -502742.934...\n",
       "6   01069040203      2945.0  POLYGON ((-502767.667 3504921.191, -502666.204...\n",
       "7   01069040801      5448.0  POLYGON ((-500428.769 3500358.761, -500416.723...\n",
       "8   01069041901      3047.0  POLYGON ((-488333.057 3493935.746, -488256.069...\n",
       "9   01069040206      4135.0  POLYGON ((-501435.632 3501596.100, -501427.119...\n",
       "10  01125010706      4350.0  POLYGON ((-664112.715 3743909.421, -664104.175...\n",
       "11  01125010704      5046.0  POLYGON ((-682368.079 3723420.237, -682339.303...\n",
       "12  01125010705      4473.0  POLYGON ((-691734.395 3725024.015, -691708.904...\n",
       "13  01125010104      3461.0  POLYGON ((-683320.776 3780079.255, -683314.128...\n",
       "14  01125012504      3748.0  POLYGON ((-684409.797 3736290.851, -684398.419...\n",
       "15  01125010305      3470.0  POLYGON ((-691776.446 3760265.194, -691733.536...\n",
       "16  01125010603      5657.0  POLYGON ((-636561.345 3745153.770, -636556.582...\n",
       "17  01125012306      4945.0  POLYGON ((-671383.053 3742774.493, -671377.038...\n",
       "18  01125010707      4263.0  POLYGON ((-668183.281 3735454.031, -668178.812...\n",
       "19  01125010206      5351.0  POLYGON ((-677929.454 3751968.761, -677908.911...\n",
       "20  01125012307      1651.0  POLYGON ((-671567.191 3740685.971, -671555.686...\n",
       "21  01125012505      3857.0  POLYGON ((-677129.867 3735849.949, -677098.195...\n",
       "22  01125010604      7536.0  POLYGON ((-644507.729 3749574.528, -644506.434...\n",
       "23  01125012101      4604.0  POLYGON ((-671345.652 3743076.485, -671342.762...\n",
       "24  01125010105      3840.0  POLYGON ((-696409.862 3783100.743, -696363.779..."
      ]
     },
     "execution_count": 2,
     "metadata": {},
     "output_type": "execute_result"
    }
   ],
   "source": [
    "shapefile_folder = 'CensusTracts'\n",
    "population_gdf_path = os.path.join(shapefile_folder, 'census_tracts_with_population.shp')\n",
    "population_tracts_gdf = gpd.read_file(population_gdf_path)\n",
    "population_tracts_gdf.head(25)\n"
   ]
  },
  {
   "cell_type": "markdown",
   "id": "b5e5cdf0-dcfd-4ea2-afe4-3d0188a46bdd",
   "metadata": {},
   "source": [
    "## Read in state boundaries and hurricane track data"
   ]
  },
  {
   "cell_type": "code",
   "execution_count": 3,
   "id": "f1a9c866-cb8d-4577-b2a4-9262c9824a69",
   "metadata": {},
   "outputs": [],
   "source": [
    "# load us states\n",
    "us_state_path = os.path.join('cb_2018_us_state_500k', 'cb_2018_us_state_500k.shp')\n",
    "us_states = gpd.read_file(us_state_path)\n",
    "us_states = us_states.to_crs(epsg = 32618)\n",
    "# read all hurricane paths\n",
    "hurricane_pathway = os.path.join('combined_tracks', 'combined_tracks_points.shp')\n",
    "all_hurricane_points = gpd.read_file(hurricane_pathway) # read file\n",
    "all_hurricane_points = all_hurricane_points.to_crs(epsg = 32618)\n"
   ]
  },
  {
   "cell_type": "markdown",
   "id": "7f77b5b7-8f78-4449-91a7-cd85ec0d4eb2",
   "metadata": {},
   "source": [
    "# initialize dataframe to store \n",
    "### hazard (windspeed)\n",
    "### exposure (populations) and \n",
    "### vulnerability (damage) from each hurricane"
   ]
  },
  {
   "cell_type": "code",
   "execution_count": 18,
   "id": "f801c265-d401-4ba8-bb68-57b4c79e0a25",
   "metadata": {},
   "outputs": [],
   "source": [
    "hurricane_classification_df = pd.DataFrame()"
   ]
  },
  {
   "cell_type": "markdown",
   "id": "8ffa415b-7ae6-4f45-a55b-1a44cc9a54b9",
   "metadata": {},
   "source": [
    "# Read in Billion Dollar Disaster Damage Estimates\n"
   ]
  },
  {
   "cell_type": "code",
   "execution_count": 6,
   "id": "fb5cc8e3-e231-4fde-abf9-1296e29fb12e",
   "metadata": {},
   "outputs": [],
   "source": [
    "hurricane_losses = pd.read_csv('billion_dollar_losses.csv')"
   ]
  },
  {
   "cell_type": "markdown",
   "id": "6725b08a-1561-4581-828d-d6f5dea52606",
   "metadata": {},
   "source": [
    "## Get list of all years with a hurricane"
   ]
  },
  {
   "cell_type": "code",
   "execution_count": 9,
   "id": "41ae8270-619c-4d57-9918-370a4fc15f57",
   "metadata": {},
   "outputs": [
    {
     "name": "stdout",
     "output_type": "stream",
     "text": [
      "[2010. 2011. 2012. 2013. 2014. 2015. 2016. 2017. 2018. 2019. 2020. 2021.\n",
      " 2022. 2023. 2024.]\n"
     ]
    }
   ],
   "source": [
    "all_years = np.sort(all_hurricane_points['TCYR'].unique())\n",
    "print(all_years)"
   ]
  },
  {
   "cell_type": "markdown",
   "id": "76fce18f-9fd8-422a-8683-a66c164a6e1e",
   "metadata": {},
   "source": [
    "# Loop through each hurricane in each year to find damage matches\n",
    "## Lookup all names of each hurricane, find name + correct year in damage database\n",
    "### Match damage estimate with hurricane ID"
   ]
  },
  {
   "cell_type": "code",
   "execution_count": 19,
   "id": "89e797d7-e921-4647-8ea3-d1ac3d7af5c7",
   "metadata": {},
   "outputs": [
    {
     "name": "stdout",
     "output_type": "stream",
     "text": [
      "         Total Damage\n",
      "2011_9           18.8\n",
      "2011_13           3.5\n",
      "2012_18          88.5\n",
      "2016_14          13.1\n",
      "2017_9          160.0\n",
      "2017_11          64.0\n",
      "2017_15         115.2\n",
      "2018_6           30.0\n",
      "2018_14          31.2\n",
      "2019_5            2.0\n",
      "2019_11           6.2\n",
      "2020_8            1.3\n",
      "2020_9            5.8\n",
      "2020_13          28.1\n",
      "2020_19           8.8\n",
      "2020_26           3.5\n",
      "2020_28           5.3\n",
      "2020_29           1.8\n",
      "2021_5            1.4\n",
      "2021_6            1.5\n",
      "2021_14           1.2\n",
      "2022_7            2.7\n",
      "2022_9          119.6\n",
      "2022_17           1.1\n",
      "2024_2            7.2\n",
      "2024_4            2.5\n",
      "2024_6            1.3\n",
      "2024_9           78.7\n",
      "2024_14          34.3\n"
     ]
    }
   ],
   "source": [
    "for year_num in all_years:\n",
    "  this_yr_hurricanes = all_hurricane_points[all_hurricane_points['TCYR'] == year_num]\n",
    "  hurricane_nums = this_yr_hurricanes['STORMNUM'].unique()\n",
    "  \n",
    "  # set ids for individual hurricanes\n",
    "  for strm_num in hurricane_nums:\n",
    "    hurricane_id = str(int(year_num)) + '_' + str(int(strm_num))\n",
    "    hurricane_classification_df.loc[hurricane_id, 'Total Damage']  = 0.0\n",
    "\n",
    "    # slice dataframe to find only current hurricane\n",
    "    this_hurricane = this_yr_hurricanes[this_yr_hurricanes['STORMNUM'] == strm_num]\n",
    "    # get list of all names the hurricane was called\n",
    "    hurricane_names = this_hurricane['STORMNAME'].unique()\n",
    "    # get year to match with hurricane name\n",
    "    hurricane_year = int(this_hurricane.loc[this_hurricane.index[-1], 'TCYR'])\n",
    "\n",
    "    # loop through all potential names to match with damage list\n",
    "    for hurricane_name in hurricane_names:\n",
    "      if hurricane_name:\n",
    "        loss_check = hurricane_losses[hurricane_losses['Hurricane'].str.contains(hurricane_name, na=False, case=False)]\n",
    "        if len(loss_check.index) > 0:\n",
    "          # name match must occur in correct year\n",
    "          if int(loss_check.loc[loss_check.index[0], 'Year']) == hurricane_year:\n",
    "            hurricane_classification_df.loc[hurricane_id, 'Total Damage'] = loss_check.loc[loss_check.index[0], 'Cost'] * 1.0\n",
    "            break\n",
    "print(hurricane_classification_df[hurricane_classification_df['Total Damage'] > 0.0])\n"
   ]
  },
  {
   "cell_type": "markdown",
   "id": "abbc1c53-dbf6-460c-ad8c-f10b4b1c3198",
   "metadata": {},
   "source": [
    "# Find exposed populations for billion-dollar disasters storms\n",
    "## first set buffer diameters"
   ]
  },
  {
   "cell_type": "code",
   "execution_count": 20,
   "id": "39b68733-3f13-4dee-9838-84bd3cf54f53",
   "metadata": {},
   "outputs": [],
   "source": [
    "buffer_radii = [200000.0, 150000.0, 100000.0, 50000.0]"
   ]
  },
  {
   "cell_type": "markdown",
   "id": "36226380-81f5-462e-9991-04965c28acf3",
   "metadata": {},
   "source": [
    "### only do exposure calculation on storms with damage"
   ]
  },
  {
   "cell_type": "code",
   "execution_count": 25,
   "id": "63e13bce-9a02-4648-b3a9-c9f43686f398",
   "metadata": {},
   "outputs": [
    {
     "name": "stdout",
     "output_type": "stream",
     "text": [
      "2011_9\n",
      "2011_13\n",
      "2012_18\n",
      "2016_14\n",
      "2017_9\n",
      "2017_11\n",
      "2017_15\n",
      "2018_6\n",
      "2018_14\n",
      "2019_5\n",
      "2019_11\n",
      "2020_8\n",
      "2020_9\n",
      "2020_13\n",
      "2020_19\n",
      "2020_26\n",
      "2020_28\n",
      "2020_29\n",
      "2021_5\n",
      "2021_6\n",
      "2021_14\n",
      "2022_7\n",
      "2022_9\n",
      "2022_17\n",
      "2024_2\n",
      "2024_4\n",
      "2024_6\n",
      "2024_9\n",
      "2024_14\n"
     ]
    }
   ],
   "source": [
    "billion_dollar_hurricanes = hurricane_classification_df[hurricane_classification_df['Total Damage'] > 0.0]\n",
    "for storm_index in billion_dollar_hurricanes.index:\n",
    "  print(storm_index)\n",
    "  hurricane_year = int(storm_index.split('_')[0])\n",
    "  hurricane_num = int(storm_index.split('_')[1])\n",
    "  this_yr_hurricanes = all_hurricane_points[all_hurricane_points['TCYR'] == hurricane_year]\n",
    "  this_hurricane = this_yr_hurricanes[this_yr_hurricanes['STORMNUM'] == hurricane_num]\n",
    "\n",
    "  # initialize hazard and exposure values for this storm\n",
    "  hurricane_classification_df.loc[storm_index, 'Landfall Windspeed'] = 0.0\n",
    "  for buffer_radius in buffer_radii:\n",
    "    hurricane_classification_df.loc[storm_index, 'Exposed Population < ' + str(int(buffer_radius/1000.0)) + 'km'] = 0.0\n",
    "\n",
    "  # calculate exposure to hazards > than 75mph\n",
    "  for index, row in this_hurricane.iterrows():\n",
    "    if row['INTENSITY'] > 75.0 / 1.15:    \n",
    "      for buffer_radius in buffer_radii:\n",
    "        buffer_geom = row['geometry'].buffer(buffer_radius)\n",
    "        # create new dataframe for circle created by radius\n",
    "        gdf_point_buffer = gpd.GeoDataFrame([0,], crs = this_hurricane.crs, geometry = [buffer_geom,])      \n",
    "        # find intersection of hurricane radius with census tracts\n",
    "        exposed_tracts = gpd.sjoin(population_tracts_gdf, gdf_point_buffer, how = 'inner', predicate = 'intersects')\n",
    "        if len(exposed_tracts) > 0:\n",
    "          hurricane_classification_df.loc[storm_index, 'Landfall Windspeed'] = max(row['INTENSITY'] * 1.15, hurricane_classification_df.loc[storm_index, 'Landfall Windspeed'])\n",
    "          # find total population contained in those census tracts\n",
    "          total_population = 0 \n",
    "          for indexp, rowp in exposed_tracts.iterrows():\n",
    "            total_population += np.sum(rowp['Population'])\n",
    "          hurricane_classification_df.loc[storm_index, 'Exposed Population < ' + str(int(buffer_radius/1000.0)) + 'km'] += total_population\n",
    "hurricane_classification_df.to_csv('hurricane_hazard_exposure_vulnerability.csv')"
   ]
  },
  {
   "cell_type": "code",
   "execution_count": null,
   "id": "12294fa7-2b83-4f17-9d19-b3376ea89904",
   "metadata": {},
   "outputs": [],
   "source": []
  }
 ],
 "metadata": {
  "kernelspec": {
   "display_name": "Python 3 (ipykernel)",
   "language": "python",
   "name": "python3"
  },
  "language_info": {
   "codemirror_mode": {
    "name": "ipython",
    "version": 3
   },
   "file_extension": ".py",
   "mimetype": "text/x-python",
   "name": "python",
   "nbconvert_exporter": "python",
   "pygments_lexer": "ipython3",
   "version": "3.12.3"
  }
 },
 "nbformat": 4,
 "nbformat_minor": 5
}
